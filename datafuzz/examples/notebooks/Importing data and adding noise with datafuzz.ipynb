{
 "cells": [
  {
   "cell_type": "code",
   "execution_count": 1,
   "metadata": {
    "collapsed": true
   },
   "outputs": [],
   "source": [
    "from datafuzz import DataSet, NoiseMaker\n",
    "import numpy as np"
   ]
  },
  {
   "cell_type": "code",
   "execution_count": 2,
   "metadata": {
    "collapsed": true
   },
   "outputs": [],
   "source": [
    "my_matrix = np.random.rand(100,5)"
   ]
  },
  {
   "cell_type": "code",
   "execution_count": 3,
   "metadata": {},
   "outputs": [
    {
     "data": {
      "text/plain": [
       "array([[ 0.05083579,  0.5613029 ,  0.1093765 ,  0.96091582,  0.91899122],\n",
       "       [ 0.5504427 ,  0.10874252,  0.83970831,  0.72334518,  0.40410346],\n",
       "       [ 0.82142104,  0.30716229,  0.12812165,  0.80649279,  0.619871  ],\n",
       "       [ 0.61047737,  0.96661141,  0.9149366 ,  0.94631554,  0.0227119 ],\n",
       "       [ 0.70137061,  0.77388145,  0.53000322,  0.38166306,  0.01454725],\n",
       "       [ 0.95164191,  0.1804988 ,  0.2618649 ,  0.8367677 ,  0.33949833],\n",
       "       [ 0.65895333,  0.84605938,  0.53652861,  0.71523133,  0.6258762 ],\n",
       "       [ 0.65806327,  0.99110948,  0.31820219,  0.08569562,  0.19174265],\n",
       "       [ 0.12551591,  0.03122112,  0.48170981,  0.85901469,  0.18389796],\n",
       "       [ 0.58016181,  0.42197059,  0.19881634,  0.17727938,  0.57868685]])"
      ]
     },
     "execution_count": 3,
     "metadata": {},
     "output_type": "execute_result"
    }
   ],
   "source": [
    "my_matrix[:10]"
   ]
  },
  {
   "cell_type": "code",
   "execution_count": 4,
   "metadata": {
    "collapsed": true
   },
   "outputs": [],
   "source": [
    "dataset = DataSet(my_matrix)"
   ]
  },
  {
   "cell_type": "code",
   "execution_count": 5,
   "metadata": {},
   "outputs": [],
   "source": [
    "noisy = NoiseMaker(dataset, \n",
    "                   noise=['type_transform', 'add_nulls', 'random'],\n",
    "                   percentage=20)"
   ]
  },
  {
   "cell_type": "code",
   "execution_count": 6,
   "metadata": {},
   "outputs": [],
   "source": [
    "noisy.run_strategy()"
   ]
  },
  {
   "cell_type": "code",
   "execution_count": 7,
   "metadata": {},
   "outputs": [
    {
     "data": {
      "text/plain": [
       "array([['0.05083578925303878', '0.5613029036289853', '0.10937650384721831',\n",
       "        '0.9609158202663867', '0.9189912216251788'],\n",
       "       ['0.5504427007515615', '0.10874252101960846', '0.8397083134586133',\n",
       "        '0.7233451836781861', '0.4041034584876203'],\n",
       "       ['0.8214210410099357', \"['0.9209191103567496' 'nan' '0.7\",\n",
       "        '0.12812164653518165', '0.8064927853280955', '0.6198709955585692'],\n",
       "       ['0.610477365529194', \"['0.9209191103567496' 'nan' '0.7\",\n",
       "        '0.9149365959588501', '0.9463155402411979', '0.022711897132630998'],\n",
       "       ['0.7013706124648533', '0.7738814461883908', '0.5300032170393127',\n",
       "        '0.3816630647470801', '0.014547253215408396'],\n",
       "       ['0.9516419142284347', '0.18049880195471235', '0.26186489552693337',\n",
       "        '0.8367677039050744', '0.33949833042027233'],\n",
       "       ['0.6589533333144675', 'nan', '0.5365286098670764',\n",
       "        '0.715231330577659', '0.625876201617586'],\n",
       "       ['0.658063268761905', \"['0.9209191103567496' 'nan' '0.7\",\n",
       "        '0.31820218782357546', '0.08569562287514454', '0.19174264533826557'],\n",
       "       ['0.12551591048902255', 'nan', '0.48170981459528794',\n",
       "        '0.8590146886931922', '0.18389795698314848'],\n",
       "       ['0.5801618078198666', '0.42197058807572363', '0.19881634405384097',\n",
       "        '0.17727937957348916', '0.578686848995593']],\n",
       "      dtype='<U32')"
      ]
     },
     "execution_count": 7,
     "metadata": {},
     "output_type": "execute_result"
    }
   ],
   "source": [
    "dataset[:10]"
   ]
  },
  {
   "cell_type": "code",
   "execution_count": 8,
   "metadata": {},
   "outputs": [
    {
     "name": "stderr",
     "output_type": "stream",
     "text": [
      "/home/katharine/.virtualenv/py3data/lib/python3.6/site-packages/ipykernel_launcher.py:1: FutureWarning: elementwise comparison failed; returning scalar instead, but in the future will perform elementwise comparison\n",
      "  \"\"\"Entry point for launching an IPython kernel.\n"
     ]
    },
    {
     "data": {
      "text/plain": [
       "False"
      ]
     },
     "execution_count": 8,
     "metadata": {},
     "output_type": "execute_result"
    }
   ],
   "source": [
    "(my_matrix==dataset.records)"
   ]
  },
  {
   "cell_type": "code",
   "execution_count": 9,
   "metadata": {},
   "outputs": [],
   "source": [
    "new_array = dataset.to_output()"
   ]
  },
  {
   "cell_type": "code",
   "execution_count": 10,
   "metadata": {},
   "outputs": [
    {
     "data": {
      "text/plain": [
       "numpy.ndarray"
      ]
     },
     "execution_count": 10,
     "metadata": {},
     "output_type": "execute_result"
    }
   ],
   "source": [
    "type(new_array)"
   ]
  },
  {
   "cell_type": "code",
   "execution_count": 11,
   "metadata": {},
   "outputs": [
    {
     "data": {
      "text/plain": [
       "array([['0.05083578925303878', '0.5613029036289853', '0.10937650384721831',\n",
       "        '0.9609158202663867', '0.9189912216251788'],\n",
       "       ['0.5504427007515615', '0.10874252101960846', '0.8397083134586133',\n",
       "        '0.7233451836781861', '0.4041034584876203'],\n",
       "       ['0.8214210410099357', \"['0.9209191103567496' 'nan' '0.7\",\n",
       "        '0.12812164653518165', '0.8064927853280955', '0.6198709955585692'],\n",
       "       ['0.610477365529194', \"['0.9209191103567496' 'nan' '0.7\",\n",
       "        '0.9149365959588501', '0.9463155402411979', '0.022711897132630998'],\n",
       "       ['0.7013706124648533', '0.7738814461883908', '0.5300032170393127',\n",
       "        '0.3816630647470801', '0.014547253215408396']],\n",
       "      dtype='<U32')"
      ]
     },
     "execution_count": 11,
     "metadata": {},
     "output_type": "execute_result"
    }
   ],
   "source": [
    "new_array[:5]"
   ]
  },
  {
   "cell_type": "code",
   "execution_count": null,
   "metadata": {
    "collapsed": true
   },
   "outputs": [],
   "source": []
  }
 ],
 "metadata": {
  "kernelspec": {
   "display_name": "Python 3",
   "language": "python",
   "name": "python3"
  },
  "language_info": {
   "codemirror_mode": {
    "name": "ipython",
    "version": 3
   },
   "file_extension": ".py",
   "mimetype": "text/x-python",
   "name": "python",
   "nbconvert_exporter": "python",
   "pygments_lexer": "ipython3",
   "version": "3.6.1"
  }
 },
 "nbformat": 4,
 "nbformat_minor": 2
}
