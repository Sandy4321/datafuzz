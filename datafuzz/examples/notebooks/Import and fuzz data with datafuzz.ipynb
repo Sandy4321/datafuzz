{
 "cells": [
  {
   "cell_type": "code",
   "execution_count": 7,
   "metadata": {
    "collapsed": true
   },
   "outputs": [],
   "source": [
    "from datafuzz import DataSet, Fuzzer"
   ]
  },
  {
   "cell_type": "code",
   "execution_count": 8,
   "metadata": {},
   "outputs": [],
   "source": [
    "dataset = DataSet('file://datafuzz/examples/data/iot.csv')"
   ]
  },
  {
   "cell_type": "code",
   "execution_count": 9,
   "metadata": {},
   "outputs": [
    {
     "data": {
      "text/html": [
       "<div>\n",
       "<style>\n",
       "    .dataframe thead tr:only-child th {\n",
       "        text-align: right;\n",
       "    }\n",
       "\n",
       "    .dataframe thead th {\n",
       "        text-align: left;\n",
       "    }\n",
       "\n",
       "    .dataframe tbody tr th {\n",
       "        vertical-align: top;\n",
       "    }\n",
       "</style>\n",
       "<table border=\"1\" class=\"dataframe\">\n",
       "  <thead>\n",
       "    <tr style=\"text-align: right;\">\n",
       "      <th></th>\n",
       "      <th>temperature</th>\n",
       "      <th>note</th>\n",
       "      <th>build</th>\n",
       "      <th>heartrate</th>\n",
       "      <th>username</th>\n",
       "      <th>latest</th>\n",
       "    </tr>\n",
       "  </thead>\n",
       "  <tbody>\n",
       "    <tr>\n",
       "      <th>0</th>\n",
       "      <td>26</td>\n",
       "      <td>test</td>\n",
       "      <td>ce21744c-b623-9383-8c31-f4d7bbc054e2</td>\n",
       "      <td>75</td>\n",
       "      <td>arellanopamela</td>\n",
       "      <td>1</td>\n",
       "    </tr>\n",
       "    <tr>\n",
       "      <th>1</th>\n",
       "      <td>24</td>\n",
       "      <td>n/a</td>\n",
       "      <td>5127a8b3-24c0-8620-8717-54c7305905ad</td>\n",
       "      <td>65</td>\n",
       "      <td>christinescott</td>\n",
       "      <td>0</td>\n",
       "    </tr>\n",
       "    <tr>\n",
       "      <th>2</th>\n",
       "      <td>20</td>\n",
       "      <td>test</td>\n",
       "      <td>7fb595ce-b967-f083-3d40-3591d7b094d2</td>\n",
       "      <td>76</td>\n",
       "      <td>santanadave</td>\n",
       "      <td>0</td>\n",
       "    </tr>\n",
       "    <tr>\n",
       "      <th>3</th>\n",
       "      <td>14</td>\n",
       "      <td>wake</td>\n",
       "      <td>5913bc7d-d03c-e935-5667-6899baf669d9</td>\n",
       "      <td>66</td>\n",
       "      <td>michaelmorales</td>\n",
       "      <td>1</td>\n",
       "    </tr>\n",
       "    <tr>\n",
       "      <th>4</th>\n",
       "      <td>11</td>\n",
       "      <td>user</td>\n",
       "      <td>0cc7fa33-129d-03a1-1908-52fdac5074da</td>\n",
       "      <td>60</td>\n",
       "      <td>mitchellronald</td>\n",
       "      <td>1</td>\n",
       "    </tr>\n",
       "  </tbody>\n",
       "</table>\n",
       "</div>"
      ],
      "text/plain": [
       "   temperature  note                                 build  heartrate  \\\n",
       "0           26  test  ce21744c-b623-9383-8c31-f4d7bbc054e2         75   \n",
       "1           24   n/a  5127a8b3-24c0-8620-8717-54c7305905ad         65   \n",
       "2           20  test  7fb595ce-b967-f083-3d40-3591d7b094d2         76   \n",
       "3           14  wake  5913bc7d-d03c-e935-5667-6899baf669d9         66   \n",
       "4           11  user  0cc7fa33-129d-03a1-1908-52fdac5074da         60   \n",
       "\n",
       "         username  latest  \n",
       "0  arellanopamela       1  \n",
       "1  christinescott       0  \n",
       "2     santanadave       0  \n",
       "3  michaelmorales       1  \n",
       "4  mitchellronald       1  "
      ]
     },
     "execution_count": 9,
     "metadata": {},
     "output_type": "execute_result"
    }
   ],
   "source": [
    "dataset.records.head()"
   ]
  },
  {
   "cell_type": "code",
   "execution_count": 10,
   "metadata": {
    "collapsed": true
   },
   "outputs": [],
   "source": [
    "fuzzer = Fuzzer(dataset, \n",
    "                percentage=30,\n",
    "                columns=['temperature', 'username'])"
   ]
  },
  {
   "cell_type": "code",
   "execution_count": 11,
   "metadata": {
    "collapsed": true
   },
   "outputs": [],
   "source": [
    "fuzzer.run_strategy()"
   ]
  },
  {
   "cell_type": "code",
   "execution_count": 12,
   "metadata": {},
   "outputs": [
    {
     "data": {
      "text/html": [
       "<div>\n",
       "<style>\n",
       "    .dataframe thead tr:only-child th {\n",
       "        text-align: right;\n",
       "    }\n",
       "\n",
       "    .dataframe thead th {\n",
       "        text-align: left;\n",
       "    }\n",
       "\n",
       "    .dataframe tbody tr th {\n",
       "        vertical-align: top;\n",
       "    }\n",
       "</style>\n",
       "<table border=\"1\" class=\"dataframe\">\n",
       "  <thead>\n",
       "    <tr style=\"text-align: right;\">\n",
       "      <th></th>\n",
       "      <th>temperature</th>\n",
       "      <th>note</th>\n",
       "      <th>build</th>\n",
       "      <th>heartrate</th>\n",
       "      <th>username</th>\n",
       "      <th>latest</th>\n",
       "    </tr>\n",
       "  </thead>\n",
       "  <tbody>\n",
       "    <tr>\n",
       "      <th>0</th>\n",
       "      <td>26</td>\n",
       "      <td>test</td>\n",
       "      <td>ce21744c-b623-9383-8c31-f4d7bbc054e2</td>\n",
       "      <td>75</td>\n",
       "      <td>arellanopamela</td>\n",
       "      <td>1</td>\n",
       "    </tr>\n",
       "    <tr>\n",
       "      <th>1</th>\n",
       "      <td>24</td>\n",
       "      <td>n/a</td>\n",
       "      <td>5127a8b3-24c0-8620-8717-54c7305905ad</td>\n",
       "      <td>65</td>\n",
       "      <td>c/h/r/i/s/t/i/n/e/s/c/o/t/t</td>\n",
       "      <td>0</td>\n",
       "    </tr>\n",
       "    <tr>\n",
       "      <th>2</th>\n",
       "      <td>20</td>\n",
       "      <td>test</td>\n",
       "      <td>7fb595ce-b967-f083-3d40-3591d7b094d2</td>\n",
       "      <td>76</td>\n",
       "      <td>santanadave</td>\n",
       "      <td>0</td>\n",
       "    </tr>\n",
       "    <tr>\n",
       "      <th>3</th>\n",
       "      <td>/etc</td>\n",
       "      <td>wake</td>\n",
       "      <td>5913bc7d-d03c-e935-5667-6899baf669d9</td>\n",
       "      <td>66</td>\n",
       "      <td>michaelmorales</td>\n",
       "      <td>1</td>\n",
       "    </tr>\n",
       "    <tr>\n",
       "      <th>4</th>\n",
       "      <td>11</td>\n",
       "      <td>user</td>\n",
       "      <td>0cc7fa33-129d-03a1-1908-52fdac5074da</td>\n",
       "      <td>60</td>\n",
       "      <td>mitchellronald</td>\n",
       "      <td>1</td>\n",
       "    </tr>\n",
       "  </tbody>\n",
       "</table>\n",
       "</div>"
      ],
      "text/plain": [
       "  temperature  note                                 build  heartrate  \\\n",
       "0          26  test  ce21744c-b623-9383-8c31-f4d7bbc054e2         75   \n",
       "1          24   n/a  5127a8b3-24c0-8620-8717-54c7305905ad         65   \n",
       "2          20  test  7fb595ce-b967-f083-3d40-3591d7b094d2         76   \n",
       "3        /etc  wake  5913bc7d-d03c-e935-5667-6899baf669d9         66   \n",
       "4          11  user  0cc7fa33-129d-03a1-1908-52fdac5074da         60   \n",
       "\n",
       "                      username  latest  \n",
       "0               arellanopamela       1  \n",
       "1  c/h/r/i/s/t/i/n/e/s/c/o/t/t       0  \n",
       "2                  santanadave       0  \n",
       "3               michaelmorales       1  \n",
       "4               mitchellronald       1  "
      ]
     },
     "execution_count": 12,
     "metadata": {},
     "output_type": "execute_result"
    }
   ],
   "source": [
    "dataset.records.head()"
   ]
  },
  {
   "cell_type": "code",
   "execution_count": null,
   "metadata": {
    "collapsed": true
   },
   "outputs": [],
   "source": []
  }
 ],
 "metadata": {
  "kernelspec": {
   "display_name": "Python 3",
   "language": "python",
   "name": "python3"
  },
  "language_info": {
   "codemirror_mode": {
    "name": "ipython",
    "version": 3
   },
   "file_extension": ".py",
   "mimetype": "text/x-python",
   "name": "python",
   "nbconvert_exporter": "python",
   "pygments_lexer": "ipython3",
   "version": "3.6.1"
  }
 },
 "nbformat": 4,
 "nbformat_minor": 2
}
